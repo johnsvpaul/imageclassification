{
 "cells": [
  {
   "cell_type": "code",
   "execution_count": 1,
   "id": "9d03398f",
   "metadata": {},
   "outputs": [],
   "source": [
    "import matplotlib.pyplot as plt\n",
    "import numpy as np\n",
    "import PIL\n",
    "import tensorflow as tf\n",
    "from tensorflow.keras import layers\n",
    "from tensorflow.keras.models import Sequential\n",
    "from tensorflow.keras.optimizers import Adam\n",
    "from tensorflow.keras.layers import Dense,Flatten\n"
   ]
  },
  {
   "cell_type": "code",
   "execution_count": 2,
   "id": "bbf43735",
   "metadata": {},
   "outputs": [],
   "source": [
    "import pathlib\n",
    "\n",
    "\n",
    "data_dir = pathlib.Path('dataset')\n"
   ]
  },
  {
   "cell_type": "code",
   "execution_count": null,
   "id": "5d21995d",
   "metadata": {},
   "outputs": [],
   "source": []
  },
  {
   "cell_type": "code",
   "execution_count": 5,
   "id": "ffa53166",
   "metadata": {},
   "outputs": [
    {
     "name": "stdout",
     "output_type": "stream",
     "text": [
      "Found 2599 files belonging to 3 classes.\n",
      "Using 2080 files for training.\n"
     ]
    }
   ],
   "source": [
    "img_height,img_width=240,240\n",
    "batch_size=32\n",
    "\n",
    "train_ds = tf.keras.preprocessing.image_dataset_from_directory(\n",
    "  data_dir,\n",
    "  validation_split=0.2,\n",
    "  subset=\"training\",\n",
    "  seed=123,\n",
    "  label_mode='categorical',  \n",
    "  image_size=(img_height, img_width),\n",
    "  batch_size=batch_size)"
   ]
  },
  {
   "cell_type": "code",
   "execution_count": 6,
   "id": "da237290",
   "metadata": {},
   "outputs": [
    {
     "name": "stdout",
     "output_type": "stream",
     "text": [
      "Found 2599 files belonging to 3 classes.\n",
      "Using 519 files for validation.\n"
     ]
    }
   ],
   "source": [
    "val_ds = tf.keras.preprocessing.image_dataset_from_directory(\n",
    "  data_dir,\n",
    "  validation_split=0.2,\n",
    "  subset=\"validation\",\n",
    "  seed=123,\n",
    "  label_mode='categorical',\n",
    "  image_size=(img_height, img_width),\n",
    "  batch_size=batch_size)"
   ]
  },
  {
   "cell_type": "code",
   "execution_count": 7,
   "id": "fd94725f",
   "metadata": {},
   "outputs": [
    {
     "name": "stdout",
     "output_type": "stream",
     "text": [
      "['daisy', 'dandelion', 'rose']\n"
     ]
    }
   ],
   "source": [
    "class_names=train_ds.class_names\n",
    "print(class_names)"
   ]
  },
  {
   "cell_type": "code",
   "execution_count": 8,
   "id": "b31bdcb3",
   "metadata": {},
   "outputs": [],
   "source": [
    "#define model - get from keras/application"
   ]
  },
  {
   "cell_type": "code",
   "execution_count": 15,
   "id": "9c0a5184",
   "metadata": {},
   "outputs": [],
   "source": [
    "model = Sequential()\n",
    "\n",
    "\n",
    "\n",
    "pretrained_model= tf.keras.applications.EfficientNetB0(\n",
    "                    include_top=False,\n",
    "                    weights=\"imagenet\",\n",
    "                    input_shape=(240,240,3),\n",
    "                    pooling='avg',\n",
    "                    classes=3,\n",
    ")\n",
    "\n",
    "for layer in pretrained_model.layers:\n",
    "        layer.trainable=False\n",
    "\n",
    "model.add(pretrained_model)"
   ]
  },
  {
   "cell_type": "markdown",
   "id": "833795fd",
   "metadata": {},
   "source": [
    "#Now, that we have imported a pre-trained model, we will also add a fully connected and output layer where actual learning can take place."
   ]
  },
  {
   "cell_type": "code",
   "execution_count": 10,
   "id": "1f28afbe",
   "metadata": {},
   "outputs": [],
   "source": [
    "model.add(Flatten()) #flatten to 1D\n",
    "model.add(Dense(512, activation='relu'))\n",
    "model.add(Dense(3, activation='softmax'))#output layer"
   ]
  },
  {
   "cell_type": "code",
   "execution_count": 11,
   "id": "4d6dc6cb",
   "metadata": {},
   "outputs": [
    {
     "name": "stdout",
     "output_type": "stream",
     "text": [
      "Model: \"sequential\"\n",
      "_________________________________________________________________\n",
      " Layer (type)                Output Shape              Param #   \n",
      "=================================================================\n",
      " efficientnetb0 (Functional)  (None, 1280)             4049571   \n",
      "                                                                 \n",
      " flatten (Flatten)           (None, 1280)              0         \n",
      "                                                                 \n",
      " dense (Dense)               (None, 512)               655872    \n",
      "                                                                 \n",
      " dense_1 (Dense)             (None, 3)                 1539      \n",
      "                                                                 \n",
      "=================================================================\n",
      "Total params: 4,706,982\n",
      "Trainable params: 657,411\n",
      "Non-trainable params: 4,049,571\n",
      "_________________________________________________________________\n"
     ]
    }
   ],
   "source": [
    "model.summary()\n"
   ]
  },
  {
   "cell_type": "code",
   "execution_count": null,
   "id": "c1278f2c",
   "metadata": {},
   "outputs": [],
   "source": []
  },
  {
   "cell_type": "markdown",
   "id": "c44abccd",
   "metadata": {},
   "source": [
    "#The key point to note over here is that the total number of parameters in the Resnet50 model is 24 million. But the trainable parameters are only 1 million."
   ]
  },
  {
   "cell_type": "code",
   "execution_count": 12,
   "id": "6b13d048",
   "metadata": {},
   "outputs": [
    {
     "name": "stdout",
     "output_type": "stream",
     "text": [
      "Epoch 1/20\n"
     ]
    },
    {
     "name": "stderr",
     "output_type": "stream",
     "text": [
      "2022-05-15 02:28:56.085412: W tensorflow/core/platform/profile_utils/cpu_utils.cc:128] Failed to get CPU frequency: 0 Hz\n",
      "2022-05-15 02:28:56.085904: I tensorflow/core/grappler/optimizers/custom_graph_optimizer_registry.cc:113] Plugin optimizer for device_type GPU is enabled.\n"
     ]
    },
    {
     "name": "stdout",
     "output_type": "stream",
     "text": [
      "65/65 [==============================] - ETA: 0s - loss: 0.2169 - accuracy: 0.9125"
     ]
    },
    {
     "name": "stderr",
     "output_type": "stream",
     "text": [
      "2022-05-15 02:29:17.726280: I tensorflow/core/grappler/optimizers/custom_graph_optimizer_registry.cc:113] Plugin optimizer for device_type GPU is enabled.\n"
     ]
    },
    {
     "name": "stdout",
     "output_type": "stream",
     "text": [
      "65/65 [==============================] - 29s 330ms/step - loss: 0.2169 - accuracy: 0.9125 - val_loss: 0.1202 - val_accuracy: 0.9557\n",
      "Epoch 2/20\n",
      "65/65 [==============================] - 19s 293ms/step - loss: 0.0783 - accuracy: 0.9726 - val_loss: 0.1177 - val_accuracy: 0.9557\n",
      "Epoch 3/20\n",
      "65/65 [==============================] - 19s 289ms/step - loss: 0.0423 - accuracy: 0.9880 - val_loss: 0.1086 - val_accuracy: 0.9576\n",
      "Epoch 4/20\n",
      "65/65 [==============================] - 18s 279ms/step - loss: 0.0216 - accuracy: 0.9952 - val_loss: 0.1111 - val_accuracy: 0.9634\n",
      "Epoch 5/20\n",
      "65/65 [==============================] - 19s 290ms/step - loss: 0.0187 - accuracy: 0.9947 - val_loss: 0.0989 - val_accuracy: 0.9653\n",
      "Epoch 6/20\n",
      "65/65 [==============================] - 19s 288ms/step - loss: 0.0153 - accuracy: 0.9957 - val_loss: 0.1227 - val_accuracy: 0.9538\n",
      "Epoch 7/20\n",
      "65/65 [==============================] - 18s 285ms/step - loss: 0.0074 - accuracy: 0.9995 - val_loss: 0.1175 - val_accuracy: 0.9557\n",
      "Epoch 8/20\n",
      "65/65 [==============================] - 19s 287ms/step - loss: 0.0049 - accuracy: 0.9995 - val_loss: 0.1139 - val_accuracy: 0.9615\n",
      "Epoch 9/20\n",
      "65/65 [==============================] - 19s 290ms/step - loss: 0.0037 - accuracy: 0.9995 - val_loss: 0.1581 - val_accuracy: 0.9615\n",
      "Epoch 10/20\n",
      "65/65 [==============================] - 18s 282ms/step - loss: 0.0068 - accuracy: 0.9986 - val_loss: 0.1312 - val_accuracy: 0.9595\n",
      "Epoch 11/20\n",
      "65/65 [==============================] - 18s 280ms/step - loss: 0.0036 - accuracy: 0.9995 - val_loss: 0.1301 - val_accuracy: 0.9653\n",
      "Epoch 12/20\n",
      "65/65 [==============================] - 18s 283ms/step - loss: 0.0234 - accuracy: 0.9913 - val_loss: 0.2215 - val_accuracy: 0.9364\n",
      "Epoch 13/20\n",
      "65/65 [==============================] - 18s 283ms/step - loss: 0.0214 - accuracy: 0.9913 - val_loss: 0.1924 - val_accuracy: 0.9538\n",
      "Epoch 14/20\n",
      "65/65 [==============================] - 19s 284ms/step - loss: 0.0236 - accuracy: 0.9918 - val_loss: 0.1732 - val_accuracy: 0.9518\n",
      "Epoch 15/20\n",
      "65/65 [==============================] - 18s 284ms/step - loss: 0.0102 - accuracy: 0.9966 - val_loss: 0.1194 - val_accuracy: 0.9672\n",
      "Epoch 16/20\n",
      "65/65 [==============================] - 13s 197ms/step - loss: 0.0091 - accuracy: 0.9971 - val_loss: 0.1557 - val_accuracy: 0.9576\n",
      "Epoch 17/20\n",
      "65/65 [==============================] - 10s 146ms/step - loss: 0.0154 - accuracy: 0.9947 - val_loss: 0.1834 - val_accuracy: 0.9557\n",
      "Epoch 18/20\n",
      "65/65 [==============================] - 9s 135ms/step - loss: 0.0088 - accuracy: 0.9966 - val_loss: 0.1826 - val_accuracy: 0.9557\n",
      "Epoch 19/20\n",
      "65/65 [==============================] - 9s 135ms/step - loss: 0.0037 - accuracy: 0.9990 - val_loss: 0.1948 - val_accuracy: 0.9557\n",
      "Epoch 20/20\n",
      "65/65 [==============================] - 9s 133ms/step - loss: 7.8989e-04 - accuracy: 1.0000 - val_loss: 0.1698 - val_accuracy: 0.9615\n"
     ]
    }
   ],
   "source": [
    "model.compile(optimizer=Adam(),loss='categorical_crossentropy',metrics=['accuracy'])\n",
    "\n",
    "hist = model.fit(train_ds, validation_data=val_ds, epochs=20)\n",
    "\n"
   ]
  },
  {
   "cell_type": "markdown",
   "id": "327e2d8b",
   "metadata": {},
   "source": [
    "Graph for 20 epochs"
   ]
  },
  {
   "cell_type": "code",
   "execution_count": 14,
   "id": "f5c5d87d",
   "metadata": {},
   "outputs": [
    {
     "data": {
      "image/png": "[encoded data removed]",
      "text/plain": [
       "<Figure size 432x288 with 1 Axes>"
      ]
     },
     "metadata": {
      "needs_background": "light"
     },
     "output_type": "display_data"
    }
   ],
   "source": [
    "fig1 = plt.gcf()\n",
    "plt.plot(hist.history['accuracy'])\n",
    "plt.plot(hist.history['val_accuracy'])\n",
    "plt.axis(ymin=0.4,ymax=1.1)\n",
    "plt.grid()\n",
    "plt.title('Model Accuracy')\n",
    "plt.ylabel('Accuracy')\n",
    "plt.xlabel('Epochs')\n",
    "plt.legend(['train', 'validation'])\n",
    "plt.show()"
   ]
  },
  {
   "cell_type": "code",
   "execution_count": null,
   "id": "9f134cea",
   "metadata": {},
   "outputs": [],
   "source": []
  }
 ],
 "metadata": {
  "kernelspec": {
   "display_name": "Python 3 (ipykernel)",
   "language": "python",
   "name": "python3"
  },
  "language_info": {
   "codemirror_mode": {
    "name": "ipython",
    "version": 3
   },
   "file_extension": ".py",
   "mimetype": "text/x-python",
   "name": "python",
   "nbconvert_exporter": "python",
   "pygments_lexer": "ipython3",
   "version": "3.9.12"
  }
 },
 "nbformat": 4,
 "nbformat_minor": 5
}
